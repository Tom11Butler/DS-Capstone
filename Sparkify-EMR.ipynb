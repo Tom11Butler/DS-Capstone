{
 "cells": [
  {
   "cell_type": "markdown",
   "metadata": {},
   "source": [
    "# Sparkify EMR Cluster Model Training, Tuning and Evaluation"
   ]
  },
  {
   "cell_type": "code",
   "execution_count": 1,
   "metadata": {},
   "outputs": [
    {
     "data": {
      "application/vnd.jupyter.widget-view+json": {
       "model_id": "98e3dc366d9f4f76b82517dc520a6ee9",
       "version_major": 2,
       "version_minor": 0
      },
      "text/plain": [
       "VBox()"
      ]
     },
     "metadata": {},
     "output_type": "display_data"
    },
    {
     "name": "stdout",
     "output_type": "stream",
     "text": [
      "Starting Spark application\n"
     ]
    },
    {
     "data": {
      "text/html": [
       "<table>\n",
       "<tr><th>ID</th><th>YARN Application ID</th><th>Kind</th><th>State</th><th>Spark UI</th><th>Driver log</th><th>Current session?</th></tr><tr><td>6</td><td>application_1593600233643_0007</td><td>pyspark</td><td>idle</td><td><a target=\"_blank\" href=\"http://ip-172-31-2-78.eu-west-2.compute.internal:20888/proxy/application_1593600233643_0007/\">Link</a></td><td><a target=\"_blank\" href=\"http://ip-172-31-0-65.eu-west-2.compute.internal:8042/node/containerlogs/container_1593600233643_0007_01_000001/livy\">Link</a></td><td>✔</td></tr></table>"
      ],
      "text/plain": [
       "<IPython.core.display.HTML object>"
      ]
     },
     "metadata": {},
     "output_type": "display_data"
    },
    {
     "data": {
      "application/vnd.jupyter.widget-view+json": {
       "model_id": "",
       "version_major": 2,
       "version_minor": 0
      },
      "text/plain": [
       "FloatProgress(value=0.0, bar_style='info', description='Progress:', layout=Layout(height='25px', width='50%'),…"
      ]
     },
     "metadata": {},
     "output_type": "display_data"
    },
    {
     "name": "stdout",
     "output_type": "stream",
     "text": [
      "SparkSession available as 'spark'.\n"
     ]
    },
    {
     "data": {
      "application/vnd.jupyter.widget-view+json": {
       "model_id": "",
       "version_major": 2,
       "version_minor": 0
      },
      "text/plain": [
       "FloatProgress(value=0.0, bar_style='info', description='Progress:', layout=Layout(height='25px', width='50%'),…"
      ]
     },
     "metadata": {},
     "output_type": "display_data"
    }
   ],
   "source": [
    "import datetime\n",
    "import time\n",
    "\n",
    "from pyspark.sql import SparkSession\n",
    "from pyspark.sql import Window\n",
    "from pyspark.sql.types import IntegerType, TimestampType\n",
    "from pyspark.sql.functions import udf\n",
    "from pyspark.sql.functions import isnan, when, count, col\n",
    "from pyspark.sql.functions import desc, asc, sum as Fsum\n",
    "from pyspark.sql.functions import month, dayofmonth, dayofweek, hour\n",
    "\n",
    "from pyspark.ml.feature import VectorAssembler, Normalizer, StandardScaler\n",
    "from pyspark.ml.feature import StringIndexer, CountVectorizer\n",
    "from pyspark.ml.classification import LogisticRegression\n",
    "from pyspark.ml.classification import DecisionTreeClassifier\n",
    "from pyspark.ml.evaluation import BinaryClassificationEvaluator\n",
    "from pyspark.ml.evaluation import MulticlassClassificationEvaluator\n",
    "from pyspark.mllib.evaluation import MulticlassMetrics\n",
    "from pyspark.ml.tuning import ParamGridBuilder, CrossValidator"
   ]
  },
  {
   "cell_type": "code",
   "execution_count": 2,
   "metadata": {},
   "outputs": [
    {
     "data": {
      "application/vnd.jupyter.widget-view+json": {
       "model_id": "5f3e4b721b244a1b99d71377ed10b067",
       "version_major": 2,
       "version_minor": 0
      },
      "text/plain": [
       "VBox()"
      ]
     },
     "metadata": {},
     "output_type": "display_data"
    },
    {
     "data": {
      "application/vnd.jupyter.widget-view+json": {
       "model_id": "",
       "version_major": 2,
       "version_minor": 0
      },
      "text/plain": [
       "FloatProgress(value=0.0, bar_style='info', description='Progress:', layout=Layout(height='25px', width='50%'),…"
      ]
     },
     "metadata": {},
     "output_type": "display_data"
    }
   ],
   "source": [
    "# create a Spark session\n",
    "spark = SparkSession \\\n",
    "    .builder \\\n",
    "    .appName(\"Our first Python Spark SQL example\") \\\n",
    "    .getOrCreate()"
   ]
  },
  {
   "cell_type": "markdown",
   "metadata": {},
   "source": [
    "# Load and clean the data"
   ]
  },
  {
   "cell_type": "code",
   "execution_count": 3,
   "metadata": {},
   "outputs": [
    {
     "data": {
      "application/vnd.jupyter.widget-view+json": {
       "model_id": "1dfb54a70d4a48979f4c57e08c358ee2",
       "version_major": 2,
       "version_minor": 0
      },
      "text/plain": [
       "VBox()"
      ]
     },
     "metadata": {},
     "output_type": "display_data"
    },
    {
     "data": {
      "application/vnd.jupyter.widget-view+json": {
       "model_id": "",
       "version_major": 2,
       "version_minor": 0
      },
      "text/plain": [
       "FloatProgress(value=0.0, bar_style='info', description='Progress:', layout=Layout(height='25px', width='50%'),…"
      ]
     },
     "metadata": {},
     "output_type": "display_data"
    },
    {
     "name": "stdout",
     "output_type": "stream",
     "text": [
      "Loading the data ...\n",
      "Data loaded!\n",
      "\n",
      "Cleaning the data ...\n",
      "Data cleaned!\n",
      "\n",
      "Extracting useable features from datetime timestamp ...\n",
      "Features extracted and added to table!"
     ]
    }
   ],
   "source": [
    "print('Loading the data ...')\n",
    "event_data = \"s3n://udacity-dsnd/sparkify/sparkify_event_data.json\"\n",
    "event_log = spark.read.json(event_data)\n",
    "print('Data loaded!\\n')\n",
    "\n",
    "print('Cleaning the data ...')\n",
    "\n",
    "# removes the empty user ID\n",
    "event_log = event_log.filter(event_log.userId != \"\")\n",
    "\n",
    "# Flags if a user cancelled at any point\n",
    "flag_cancel_event = udf(lambda x: 1 if x == 'Cancellation Confirmation' else 0\n",
    "                        , IntegerType())\n",
    "event_log = event_log.withColumn('cancelled'\n",
    "                                 , flag_cancel_event(event_log.page))\n",
    "\n",
    "# all rows after cancel event set churned to 1 else 0\n",
    "windowval = Window.partitionBy('userId')\\\n",
    "                    .orderBy(desc('ts'))\\\n",
    "                    .rangeBetween(Window.unboundedPreceding, 0)\n",
    "event_log = event_log.withColumn('churned', Fsum('cancelled').over(windowval))\n",
    "print('Data cleaned!\\n')\n",
    "\n",
    "\n",
    "print('Extracting useable features from datetime timestamp ...')\n",
    "get_timestamp = udf(lambda x:\n",
    "                        datetime.datetime.fromtimestamp(int(int(x)/1000))\n",
    "                    , TimestampType())\n",
    "event_log = event_log.withColumn('ts', get_timestamp(event_log.ts)) \\\n",
    "                    .withColumn('hour', hour('ts')) \\\n",
    "                    .withColumn('day', dayofmonth('ts')) \\\n",
    "                    .withColumn('month', month('ts')) \\\n",
    "                    .withColumn('weekday', dayofweek('ts'))\n",
    "print('Features extracted and added to table!\\n')"
   ]
  },
  {
   "cell_type": "markdown",
   "metadata": {},
   "source": [
    "# Feature Engineering"
   ]
  },
  {
   "cell_type": "code",
   "execution_count": 4,
   "metadata": {},
   "outputs": [
    {
     "data": {
      "application/vnd.jupyter.widget-view+json": {
       "model_id": "9d265c4e8e344f34b909d55143e7575a",
       "version_major": 2,
       "version_minor": 0
      },
      "text/plain": [
       "VBox()"
      ]
     },
     "metadata": {},
     "output_type": "display_data"
    },
    {
     "data": {
      "application/vnd.jupyter.widget-view+json": {
       "model_id": "",
       "version_major": 2,
       "version_minor": 0
      },
      "text/plain": [
       "FloatProgress(value=0.0, bar_style='info', description='Progress:', layout=Layout(height='25px', width='50%'),…"
      ]
     },
     "metadata": {},
     "output_type": "display_data"
    }
   ],
   "source": [
    "avg_daily_use = event_log.groupby(['userId','month','day']).count() \\\n",
    "                        .sort('userId','month','day') \\\n",
    "                        .groupby('userId').avg('count') \\\n",
    "                        .withColumnRenamed('avg(count)','avg_daily_songplays')\n",
    "avg_daily_use.createOrReplaceTempView('avg_daily_use_table')"
   ]
  },
  {
   "cell_type": "code",
   "execution_count": 5,
   "metadata": {},
   "outputs": [
    {
     "data": {
      "application/vnd.jupyter.widget-view+json": {
       "model_id": "7bb3b7118cf9446c9d2b9b137c56ed8a",
       "version_major": 2,
       "version_minor": 0
      },
      "text/plain": [
       "VBox()"
      ]
     },
     "metadata": {},
     "output_type": "display_data"
    },
    {
     "data": {
      "application/vnd.jupyter.widget-view+json": {
       "model_id": "",
       "version_major": 2,
       "version_minor": 0
      },
      "text/plain": [
       "FloatProgress(value=0.0, bar_style='info', description='Progress:', layout=Layout(height='25px', width='50%'),…"
      ]
     },
     "metadata": {},
     "output_type": "display_data"
    },
    {
     "name": "stdout",
     "output_type": "stream",
     "text": [
      "+-------+-------------+-------------+---------------+--------------+------------+-----------+------------+------------+--------+-------------------+-------+\n",
      "| userId|num_songplays|num_thumbs_up|num_thumbs_down|num_plylst_add|num_frnd_add|num_sav_set|num_ad_rolls|num_sessions|had_paid|avg_daily_songplays|churned|\n",
      "+-------+-------------+-------------+---------------+--------------+------------+-----------+------------+------------+--------+-------------------+-------+\n",
      "|1000280|         1022|           53|             33|            25|          14|          1|          74|          22|       1| 62.714285714285715|      1|\n",
      "|1002185|         1778|           92|             14|            49|          25|          3|           1|          17|       1|  99.04761904761905|      0|\n",
      "|1017805|          250|            7|              4|             5|          13|          1|           6|           3|       1|               80.0|      0|\n",
      "|1030587|         1472|           66|             16|            46|          23|          3|           0|          11|       1| 134.76923076923077|      0|\n",
      "|1033297|          236|           10|              3|             7|           4|          0|          10|           5|       1| 49.833333333333336|      0|\n",
      "+-------+-------------+-------------+---------------+--------------+------------+-----------+------------+------------+--------+-------------------+-------+\n",
      "only showing top 5 rows"
     ]
    }
   ],
   "source": [
    "event_log.createOrReplaceTempView('event_log_table')\n",
    "build_user_table = spark.sql('''\n",
    "SELECT\n",
    "    distinct e.userId\n",
    "    , sum(CASE WHEN page=\"NextSong\" THEN 1 ELSE 0 END) as num_songplays\n",
    "    , sum(CASE WHEN page=\"Thumbs Up\" THEN 1 ELSE 0 END) as num_thumbs_up\n",
    "    , sum(CASE WHEN page=\"Thumbs Down\" THEN 1 ELSE 0 END) as num_thumbs_down\n",
    "    ,sum(CASE WHEN page=\"Add to Playlist\" THEN 1 ELSE 0 END) as num_plylst_add\n",
    "    , sum(CASE WHEN page=\"Add Friend\" THEN 1 ELSE 0 END) as num_frnd_add\n",
    "    , sum(CASE WHEN page=\"Save Settings\" THEN 1 ELSE 0 END) as num_sav_set\n",
    "    , sum(CASE WHEN page=\"Roll Advert\" THEN 1 ELSE 0 END) as num_ad_rolls\n",
    "    , count(distinct sessionId) as num_sessions\n",
    "    , max(CASE WHEN level=\"paid\" THEN 1 else 0 END) as had_paid\n",
    "    , max(adu.avg_daily_songplays) as avg_daily_songplays\n",
    "    , max(churned) as churned\n",
    "FROM\n",
    "    event_log_table e\n",
    "LEFT JOIN avg_daily_use_table adu\n",
    "    ON e.userId = adu.userId\n",
    "GROUP BY\n",
    "    e.userId\n",
    "''')\n",
    "build_user_table.show(n=5)"
   ]
  },
  {
   "cell_type": "markdown",
   "metadata": {},
   "source": [
    "# Model Build\n",
    "\n",
    "## Vectorise and scale the data"
   ]
  },
  {
   "cell_type": "code",
   "execution_count": 6,
   "metadata": {},
   "outputs": [
    {
     "data": {
      "application/vnd.jupyter.widget-view+json": {
       "model_id": "751a8da39b2f4cef9f2ab8fba8dca4c7",
       "version_major": 2,
       "version_minor": 0
      },
      "text/plain": [
       "VBox()"
      ]
     },
     "metadata": {},
     "output_type": "display_data"
    },
    {
     "data": {
      "application/vnd.jupyter.widget-view+json": {
       "model_id": "",
       "version_major": 2,
       "version_minor": 0
      },
      "text/plain": [
       "FloatProgress(value=0.0, bar_style='info', description='Progress:', layout=Layout(height='25px', width='50%'),…"
      ]
     },
     "metadata": {},
     "output_type": "display_data"
    }
   ],
   "source": [
    "assembler = VectorAssembler(inputCols=['num_songplays','num_thumbs_up',\n",
    "                                       'num_thumbs_down','num_plylst_add',\n",
    "                                       'num_frnd_add','num_sav_set',\n",
    "                                       'num_ad_rolls','num_sessions',\n",
    "                                       'avg_daily_songplays']\n",
    "                            , outputCol='NumFeatures')\n",
    "build_user_table = assembler.transform(build_user_table)"
   ]
  },
  {
   "cell_type": "code",
   "execution_count": 7,
   "metadata": {},
   "outputs": [
    {
     "data": {
      "application/vnd.jupyter.widget-view+json": {
       "model_id": "3f3bed4fa371488e84310db397519f90",
       "version_major": 2,
       "version_minor": 0
      },
      "text/plain": [
       "VBox()"
      ]
     },
     "metadata": {},
     "output_type": "display_data"
    },
    {
     "data": {
      "application/vnd.jupyter.widget-view+json": {
       "model_id": "",
       "version_major": 2,
       "version_minor": 0
      },
      "text/plain": [
       "FloatProgress(value=0.0, bar_style='info', description='Progress:', layout=Layout(height='25px', width='50%'),…"
      ]
     },
     "metadata": {},
     "output_type": "display_data"
    }
   ],
   "source": [
    "scaler = Normalizer(inputCol='NumFeatures', outputCol='ScaledNumFeatures')\n",
    "build_user_table = scaler.transform(build_user_table)"
   ]
  },
  {
   "cell_type": "code",
   "execution_count": 8,
   "metadata": {},
   "outputs": [
    {
     "data": {
      "application/vnd.jupyter.widget-view+json": {
       "model_id": "5a1356e8f87240629b07cfb17627f632",
       "version_major": 2,
       "version_minor": 0
      },
      "text/plain": [
       "VBox()"
      ]
     },
     "metadata": {},
     "output_type": "display_data"
    },
    {
     "data": {
      "application/vnd.jupyter.widget-view+json": {
       "model_id": "",
       "version_major": 2,
       "version_minor": 0
      },
      "text/plain": [
       "FloatProgress(value=0.0, bar_style='info', description='Progress:', layout=Layout(height='25px', width='50%'),…"
      ]
     },
     "metadata": {},
     "output_type": "display_data"
    },
    {
     "name": "stdout",
     "output_type": "stream",
     "text": [
      "[Row(label=1, features=DenseVector([0.9931, 0.0515, 0.0321, 0.0243, 0.0136, 0.001, 0.0719, 0.0214, 0.0609])), Row(label=0, features=DenseVector([0.9966, 0.0516, 0.0078, 0.0275, 0.014, 0.0017, 0.0006, 0.0095, 0.0555])), Row(label=0, features=DenseVector([0.9503, 0.0266, 0.0152, 0.019, 0.0494, 0.0038, 0.0228, 0.0114, 0.3041]))]"
     ]
    }
   ],
   "source": [
    "data = build_user_table.select(col('churned').alias('label')\n",
    "                               , col('ScaledNumFeatures').alias('features'))\n",
    "data.head(n=3)"
   ]
  },
  {
   "cell_type": "markdown",
   "metadata": {},
   "source": [
    "## Split the data into a train and test set"
   ]
  },
  {
   "cell_type": "code",
   "execution_count": 9,
   "metadata": {},
   "outputs": [
    {
     "data": {
      "application/vnd.jupyter.widget-view+json": {
       "model_id": "a9db65d8064f4046922a5750ce65f5bd",
       "version_major": 2,
       "version_minor": 0
      },
      "text/plain": [
       "VBox()"
      ]
     },
     "metadata": {},
     "output_type": "display_data"
    },
    {
     "data": {
      "application/vnd.jupyter.widget-view+json": {
       "model_id": "",
       "version_major": 2,
       "version_minor": 0
      },
      "text/plain": [
       "FloatProgress(value=0.0, bar_style='info', description='Progress:', layout=Layout(height='25px', width='50%'),…"
      ]
     },
     "metadata": {},
     "output_type": "display_data"
    }
   ],
   "source": [
    "train, test = data.randomSplit([0.8,0.2], seed=42)"
   ]
  },
  {
   "cell_type": "markdown",
   "metadata": {},
   "source": [
    "## Logistic Regression\n",
    "\n",
    "Instantiate the logistic regression model and define the evaluator. Then train and evaluate the data by the F1 score."
   ]
  },
  {
   "cell_type": "code",
   "execution_count": 10,
   "metadata": {},
   "outputs": [
    {
     "data": {
      "application/vnd.jupyter.widget-view+json": {
       "model_id": "988f27f7f439492390cefed1923cb07c",
       "version_major": 2,
       "version_minor": 0
      },
      "text/plain": [
       "VBox()"
      ]
     },
     "metadata": {},
     "output_type": "display_data"
    },
    {
     "data": {
      "application/vnd.jupyter.widget-view+json": {
       "model_id": "",
       "version_major": 2,
       "version_minor": 0
      },
      "text/plain": [
       "FloatProgress(value=0.0, bar_style='info', description='Progress:', layout=Layout(height='25px', width='50%'),…"
      ]
     },
     "metadata": {},
     "output_type": "display_data"
    }
   ],
   "source": [
    "lr = LogisticRegression(maxIter=10, regParam=0.0)"
   ]
  },
  {
   "cell_type": "code",
   "execution_count": 11,
   "metadata": {},
   "outputs": [
    {
     "data": {
      "application/vnd.jupyter.widget-view+json": {
       "model_id": "19bb81eac6944e908ca463d3c6ab3edb",
       "version_major": 2,
       "version_minor": 0
      },
      "text/plain": [
       "VBox()"
      ]
     },
     "metadata": {},
     "output_type": "display_data"
    },
    {
     "data": {
      "application/vnd.jupyter.widget-view+json": {
       "model_id": "",
       "version_major": 2,
       "version_minor": 0
      },
      "text/plain": [
       "FloatProgress(value=0.0, bar_style='info', description='Progress:', layout=Layout(height='25px', width='50%'),…"
      ]
     },
     "metadata": {},
     "output_type": "display_data"
    }
   ],
   "source": [
    "evaluator = MulticlassClassificationEvaluator(predictionCol='prediction')"
   ]
  },
  {
   "cell_type": "code",
   "execution_count": 12,
   "metadata": {},
   "outputs": [
    {
     "data": {
      "application/vnd.jupyter.widget-view+json": {
       "model_id": "ebc360a3004c4795b8cd6dfaa729b24d",
       "version_major": 2,
       "version_minor": 0
      },
      "text/plain": [
       "VBox()"
      ]
     },
     "metadata": {},
     "output_type": "display_data"
    },
    {
     "data": {
      "application/vnd.jupyter.widget-view+json": {
       "model_id": "",
       "version_major": 2,
       "version_minor": 0
      },
      "text/plain": [
       "FloatProgress(value=0.0, bar_style='info', description='Progress:', layout=Layout(height='25px', width='50%'),…"
      ]
     },
     "metadata": {},
     "output_type": "display_data"
    },
    {
     "name": "stdout",
     "output_type": "stream",
     "text": [
      "Logistic Regression is training...\n",
      "\n",
      "Logistic Regression is predicting...\n",
      "\n",
      "Logistic Regression is evaluating...\n",
      "Test F1-score: 0.7015055350033608"
     ]
    }
   ],
   "source": [
    "model = lr\n",
    "\n",
    "# fit the dataset\n",
    "print('Logistic Regression is training...\\n')\n",
    "model = model.fit(train)\n",
    "\n",
    "# predict\n",
    "print('Logistic Regression is predicting...\\n')\n",
    "pred_test = model.transform(test)\n",
    "\n",
    "# metrics\n",
    "print('Logistic Regression is evaluating...')    \n",
    "f1_score = evaluator.evaluate(pred_test.select('label','prediction')\n",
    "                              ,{evaluator.metricName: 'f1'})\n",
    "print('Test F1-score: {}\\n'.format(f1_score))   "
   ]
  },
  {
   "cell_type": "markdown",
   "metadata": {},
   "source": [
    "## Decision Tree\n",
    "\n",
    "Instantiate the decision tree classifier model and define the evaluator. Then train and evaluate the data by the F1 score."
   ]
  },
  {
   "cell_type": "code",
   "execution_count": 13,
   "metadata": {},
   "outputs": [
    {
     "data": {
      "application/vnd.jupyter.widget-view+json": {
       "model_id": "47eabf1ca1d34d92bc0d2c5c2a8062fc",
       "version_major": 2,
       "version_minor": 0
      },
      "text/plain": [
       "VBox()"
      ]
     },
     "metadata": {},
     "output_type": "display_data"
    },
    {
     "data": {
      "application/vnd.jupyter.widget-view+json": {
       "model_id": "",
       "version_major": 2,
       "version_minor": 0
      },
      "text/plain": [
       "FloatProgress(value=0.0, bar_style='info', description='Progress:', layout=Layout(height='25px', width='50%'),…"
      ]
     },
     "metadata": {},
     "output_type": "display_data"
    },
    {
     "name": "stdout",
     "output_type": "stream",
     "text": [
      "Decision Tree is training...\n",
      "\n",
      "Decision Tree is predicting...\n",
      "\n",
      "Decision Tree is evaluating...\n",
      "Test F1-score: 0.7071845030653348"
     ]
    }
   ],
   "source": [
    "dt = DecisionTreeClassifier(seed=7)\n",
    "model = dt\n",
    "\n",
    "# fit the dataset\n",
    "print('Decision Tree is training...\\n')\n",
    "model = model.fit(train)\n",
    "\n",
    "# predict\n",
    "print('Decision Tree is predicting...\\n')\n",
    "pred_test = model.transform(test)\n",
    "\n",
    "# metrics\n",
    "print('Decision Tree is evaluating...')    \n",
    "f1_score = evaluator.evaluate(pred_test.select('label','prediction')\n",
    "                              ,{evaluator.metricName: 'f1'})\n",
    "print('Test F1-score: {}\\n'.format(f1_score))   "
   ]
  },
  {
   "cell_type": "markdown",
   "metadata": {},
   "source": [
    "# Tune the Logistic Regression model\n",
    "\n",
    "- Define the parameter grid we want to optimse on\n",
    "- Define the cross validator object with the optimising metric as the F1 score\n",
    "- Train the model with the cross validator object\n",
    "- Transform the test data using the trained model\n",
    "- Print the accuracy and F1 score of the model"
   ]
  },
  {
   "cell_type": "code",
   "execution_count": 14,
   "metadata": {},
   "outputs": [
    {
     "data": {
      "application/vnd.jupyter.widget-view+json": {
       "model_id": "2cc6ea79de2d4685a5fe3463250ad8db",
       "version_major": 2,
       "version_minor": 0
      },
      "text/plain": [
       "VBox()"
      ]
     },
     "metadata": {},
     "output_type": "display_data"
    },
    {
     "data": {
      "application/vnd.jupyter.widget-view+json": {
       "model_id": "",
       "version_major": 2,
       "version_minor": 0
      },
      "text/plain": [
       "FloatProgress(value=0.0, bar_style='info', description='Progress:', layout=Layout(height='25px', width='50%'),…"
      ]
     },
     "metadata": {},
     "output_type": "display_data"
    }
   ],
   "source": [
    "paramGrid = ParamGridBuilder(). \\\n",
    "            addGrid(lr.elasticNetParam,[0.1,0.5,1]). \\\n",
    "            addGrid(lr.regParam,[0.01,0.05,0.1]). \\\n",
    "            build()\n",
    "\n",
    "crossval = CrossValidator(estimator=lr,\n",
    "                         estimatorParamMaps=paramGrid,\n",
    "                         evaluator=MulticlassClassificationEvaluator(metricName='f1'),\n",
    "                         numFolds=3)"
   ]
  },
  {
   "cell_type": "code",
   "execution_count": 15,
   "metadata": {
    "collapsed": true,
    "jupyter": {
     "outputs_hidden": true
    }
   },
   "outputs": [
    {
     "data": {
      "application/vnd.jupyter.widget-view+json": {
       "model_id": "953e8ed4b9be4381aeddf723b94457a9",
       "version_major": 2,
       "version_minor": 0
      },
      "text/plain": [
       "VBox()"
      ]
     },
     "metadata": {},
     "output_type": "display_data"
    },
    {
     "data": {
      "application/vnd.jupyter.widget-view+json": {
       "model_id": "",
       "version_major": 2,
       "version_minor": 0
      },
      "text/plain": [
       "FloatProgress(value=0.0, bar_style='info', description='Progress:', layout=Layout(height='25px', width='50%'),…"
      ]
     },
     "metadata": {},
     "output_type": "display_data"
    },
    {
     "name": "stderr",
     "output_type": "stream",
     "text": [
      "Exception in thread cell_monitor-15:\n",
      "Traceback (most recent call last):\n",
      "  File \"/opt/conda/lib/python3.7/threading.py\", line 926, in _bootstrap_inner\n",
      "    self.run()\n",
      "  File \"/opt/conda/lib/python3.7/threading.py\", line 870, in run\n",
      "    self._target(*self._args, **self._kwargs)\n",
      "  File \"/opt/conda/lib/python3.7/site-packages/awseditorssparkmonitoringwidget-1.0-py3.7.egg/awseditorssparkmonitoringwidget/cellmonitor.py\", line 178, in cell_monitor\n",
      "    job_binned_stages[job_id][stage_id] = all_stages[stage_id]\n",
      "KeyError: 1425\n",
      "\n"
     ]
    }
   ],
   "source": [
    "cv_lr = crossval.fit(train)"
   ]
  },
  {
   "cell_type": "code",
   "execution_count": 16,
   "metadata": {},
   "outputs": [
    {
     "data": {
      "application/vnd.jupyter.widget-view+json": {
       "model_id": "ae4d33ef90364a299964308bbbb4e788",
       "version_major": 2,
       "version_minor": 0
      },
      "text/plain": [
       "VBox()"
      ]
     },
     "metadata": {},
     "output_type": "display_data"
    },
    {
     "data": {
      "application/vnd.jupyter.widget-view+json": {
       "model_id": "",
       "version_major": 2,
       "version_minor": 0
      },
      "text/plain": [
       "FloatProgress(value=0.0, bar_style='info', description='Progress:', layout=Layout(height='25px', width='50%'),…"
      ]
     },
     "metadata": {},
     "output_type": "display_data"
    }
   ],
   "source": [
    "cv_lr_results = cv_lr.transform(test)"
   ]
  },
  {
   "cell_type": "code",
   "execution_count": 17,
   "metadata": {},
   "outputs": [
    {
     "data": {
      "application/vnd.jupyter.widget-view+json": {
       "model_id": "9b02d775617740be96a039e2b99aec63",
       "version_major": 2,
       "version_minor": 0
      },
      "text/plain": [
       "VBox()"
      ]
     },
     "metadata": {},
     "output_type": "display_data"
    },
    {
     "data": {
      "application/vnd.jupyter.widget-view+json": {
       "model_id": "",
       "version_major": 2,
       "version_minor": 0
      },
      "text/plain": [
       "FloatProgress(value=0.0, bar_style='info', description='Progress:', layout=Layout(height='25px', width='50%'),…"
      ]
     },
     "metadata": {},
     "output_type": "display_data"
    },
    {
     "name": "stdout",
     "output_type": "stream",
     "text": [
      "Accuracy: 0.7741077366437596\n",
      "F-1 Score:0.6946604184991364"
     ]
    }
   ],
   "source": [
    "print('Accuracy: {}'.format(evaluator\\\n",
    "                            .evaluate(cv_lr_results.select('label'\n",
    "                                                           ,'prediction')\n",
    "                                      , {evaluator.metricName: \"accuracy\"})))\n",
    "print('F-1 Score:{}'.format(evaluator\\\n",
    "                            .evaluate(cv_lr_results.select('label'\n",
    "                                                           ,'prediction')\n",
    "                                      , {evaluator.metricName: \"f1\"})))"
   ]
  },
  {
   "cell_type": "markdown",
   "metadata": {},
   "source": [
    "# Tune the Decision Tree Classifier model\n",
    "\n",
    "- Define the parameter grid we want to optimse on\n",
    "- Define the cross validator object with the optimising metric as the F1 score\n",
    "- Train the model with the cross validator object\n",
    "- Transform the test data using the trained model\n",
    "- Print the accuracy and F1 score of the model"
   ]
  },
  {
   "cell_type": "code",
   "execution_count": 18,
   "metadata": {},
   "outputs": [
    {
     "data": {
      "application/vnd.jupyter.widget-view+json": {
       "model_id": "4e58f2ea015f4eaeaa13e3fca3eb10c1",
       "version_major": 2,
       "version_minor": 0
      },
      "text/plain": [
       "VBox()"
      ]
     },
     "metadata": {},
     "output_type": "display_data"
    },
    {
     "data": {
      "application/vnd.jupyter.widget-view+json": {
       "model_id": "",
       "version_major": 2,
       "version_minor": 0
      },
      "text/plain": [
       "FloatProgress(value=0.0, bar_style='info', description='Progress:', layout=Layout(height='25px', width='50%'),…"
      ]
     },
     "metadata": {},
     "output_type": "display_data"
    }
   ],
   "source": [
    "paramGrid = ParamGridBuilder(). \\\n",
    "            addGrid(dt.impurity, ['entropy','gini']). \\\n",
    "            addGrid(dt.maxDepth, [x for x in range(5,25,5)]). \\\n",
    "            build()\n",
    "\n",
    "crossval = CrossValidator(estimator=lr,\n",
    "                 estimatorParamMaps=paramGrid,\n",
    "                 evaluator=MulticlassClassificationEvaluator(metricName='f1'),\n",
    "                 numFolds=3)"
   ]
  },
  {
   "cell_type": "code",
   "execution_count": 19,
   "metadata": {
    "collapsed": true,
    "jupyter": {
     "outputs_hidden": true
    }
   },
   "outputs": [
    {
     "data": {
      "application/vnd.jupyter.widget-view+json": {
       "model_id": "72fa11298cbc4aff9293de59be68684a",
       "version_major": 2,
       "version_minor": 0
      },
      "text/plain": [
       "VBox()"
      ]
     },
     "metadata": {},
     "output_type": "display_data"
    },
    {
     "data": {
      "application/vnd.jupyter.widget-view+json": {
       "model_id": "",
       "version_major": 2,
       "version_minor": 0
      },
      "text/plain": [
       "FloatProgress(value=0.0, bar_style='info', description='Progress:', layout=Layout(height='25px', width='50%'),…"
      ]
     },
     "metadata": {},
     "output_type": "display_data"
    },
    {
     "name": "stderr",
     "output_type": "stream",
     "text": [
      "Exception in thread cell_monitor-19:\n",
      "Traceback (most recent call last):\n",
      "  File \"/opt/conda/lib/python3.7/threading.py\", line 926, in _bootstrap_inner\n",
      "    self.run()\n",
      "  File \"/opt/conda/lib/python3.7/threading.py\", line 870, in run\n",
      "    self._target(*self._args, **self._kwargs)\n",
      "  File \"/opt/conda/lib/python3.7/site-packages/awseditorssparkmonitoringwidget-1.0-py3.7.egg/awseditorssparkmonitoringwidget/cellmonitor.py\", line 178, in cell_monitor\n",
      "    job_binned_stages[job_id][stage_id] = all_stages[stage_id]\n",
      "KeyError: 2992\n",
      "\n"
     ]
    }
   ],
   "source": [
    "cv_dt = crossval.fit(train)"
   ]
  },
  {
   "cell_type": "code",
   "execution_count": 20,
   "metadata": {},
   "outputs": [
    {
     "data": {
      "application/vnd.jupyter.widget-view+json": {
       "model_id": "f941dd5fdb51406eb4d711a0142141bc",
       "version_major": 2,
       "version_minor": 0
      },
      "text/plain": [
       "VBox()"
      ]
     },
     "metadata": {},
     "output_type": "display_data"
    },
    {
     "data": {
      "application/vnd.jupyter.widget-view+json": {
       "model_id": "",
       "version_major": 2,
       "version_minor": 0
      },
      "text/plain": [
       "FloatProgress(value=0.0, bar_style='info', description='Progress:', layout=Layout(height='25px', width='50%'),…"
      ]
     },
     "metadata": {},
     "output_type": "display_data"
    }
   ],
   "source": [
    "cv_dt_results = cv_dt.transform(test)"
   ]
  },
  {
   "cell_type": "code",
   "execution_count": 21,
   "metadata": {},
   "outputs": [
    {
     "data": {
      "application/vnd.jupyter.widget-view+json": {
       "model_id": "9dff32cca3e2480e9b1cdb8e4871a321",
       "version_major": 2,
       "version_minor": 0
      },
      "text/plain": [
       "VBox()"
      ]
     },
     "metadata": {},
     "output_type": "display_data"
    },
    {
     "data": {
      "application/vnd.jupyter.widget-view+json": {
       "model_id": "",
       "version_major": 2,
       "version_minor": 0
      },
      "text/plain": [
       "FloatProgress(value=0.0, bar_style='info', description='Progress:', layout=Layout(height='25px', width='50%'),…"
      ]
     },
     "metadata": {},
     "output_type": "display_data"
    },
    {
     "name": "stdout",
     "output_type": "stream",
     "text": [
      "Accuracy: 0.7714475726003104\n",
      "F-1 Score:0.7015055350033608"
     ]
    }
   ],
   "source": [
    "print('Accuracy: {}'.format(evaluator\\\n",
    "                            .evaluate(cv_dt_results.select('label'\n",
    "                                                           ,'prediction')\n",
    "                                      , {evaluator.metricName: \"accuracy\"})))\n",
    "print('F-1 Score:{}'.format(evaluator\\\n",
    "                            .evaluate(cv_dt_results.select('label'\n",
    "                                                           ,'prediction')\n",
    "                                      , {evaluator.metricName: \"f1\"})))"
   ]
  }
 ],
 "metadata": {
  "kernelspec": {
   "display_name": "PySpark",
   "language": "",
   "name": "pysparkkernel"
  },
  "language_info": {
   "codemirror_mode": {
    "name": "python",
    "version": 2
   },
   "mimetype": "text/x-python",
   "name": "pyspark",
   "pygments_lexer": "python2"
  }
 },
 "nbformat": 4,
 "nbformat_minor": 4
}
